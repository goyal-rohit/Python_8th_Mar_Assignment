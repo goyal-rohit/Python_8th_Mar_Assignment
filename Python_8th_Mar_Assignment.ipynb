{
 "cells": [
  {
   "cell_type": "markdown",
   "source": [
    "#### Q1. What is the Probability density function?"
   ],
   "metadata": {
    "collapsed": false
   }
  },
  {
   "cell_type": "markdown",
   "source": [
    "The probability density function (PDF) is a function that describes the probability distribution of a continuous random variable.\n",
    "The PDF represents the relative likelihood of a continuous random variable taking on a certain value. It is a curve that is defined for all possible values of the random variable, and the area under the curve over any interval represents the probability that the random variable falls within that interval.\n",
    "The PDF is used to calculate probabilities for continuous random variables, such as the height or weight of a person, or the time it takes to complete a task."
   ],
   "metadata": {
    "collapsed": false
   }
  },
  {
   "cell_type": "markdown",
   "source": [
    "#### Q2. What are the types of Probability distribution?"
   ],
   "metadata": {
    "collapsed": false
   }
  },
  {
   "cell_type": "markdown",
   "source": [
    "There are many types of probability distribution:\n",
    "1. Normal / Gaussian Distribution\n",
    "2. Bernoulli Distribution\n",
    "3. Uniform Distribution\n",
    "4. Log Natural Distribution\n",
    "5. Poisson Distribution\n",
    "6. Power Law Distribution\n",
    "7. Binomial Distribution"
   ],
   "metadata": {
    "collapsed": false
   }
  },
  {
   "cell_type": "markdown",
   "source": [
    "#### Q3. Write a Python function to calculate the probability density function of a normal distribution with given mean and standard deviation at a given point."
   ],
   "metadata": {
    "collapsed": false
   }
  },
  {
   "cell_type": "code",
   "execution_count": 1,
   "outputs": [
    {
     "name": "stdout",
     "output_type": "stream",
     "text": [
      "0.3989422804014327\n",
      "0.24197072451914337\n",
      "0.05399096651318806\n"
     ]
    }
   ],
   "source": [
    "import math\n",
    "def normal_pdf(x,mu,sigma):\n",
    "    exp = -0.5*((x-mu)/sigma)**2\n",
    "    deno = math.sqrt(2*math.pi)*sigma\n",
    "    print( math.exp(exp)/deno)\n",
    "\n",
    "normal_pdf(0,0,1)\n",
    "normal_pdf(1,0,1)\n",
    "normal_pdf(2,0,1)"
   ],
   "metadata": {
    "collapsed": false,
    "ExecuteTime": {
     "start_time": "2023-04-05T20:04:41.991092Z",
     "end_time": "2023-04-05T20:04:42.003061Z"
    }
   }
  },
  {
   "cell_type": "markdown",
   "source": [
    "#### Q4. What are the properties of Binomial distribution? Give two examples of events where binomial distribution can be applied."
   ],
   "metadata": {
    "collapsed": false
   }
  },
  {
   "cell_type": "markdown",
   "source": [
    "The properties of Binomial distribution:\n",
    "1. The number of trials, denoted by n is fixed\n",
    "2. there are only two possible outcomes for each trial, usually referred to as success and failure\n",
    "3. the probability of success, denoted by p, is constant for each trial\n",
    "4. The trials are independent of each other\n",
    "\n",
    "Examples:\n",
    "1. A manufacturing company produces light bulbs, and 5% of the bulbs are defective. If a sample of 100 bulbs is randomly selected, what is the probability that exactly 4 of them are defective?\n",
    "2. A basketball player has a free throw percentage of 80%. If the player attempts 10 free throws, what is the probability that the player makes at least 7 of them?"
   ],
   "metadata": {
    "collapsed": false
   }
  },
  {
   "cell_type": "markdown",
   "source": [
    "#### Q5. Generate a random sample of size 1000 from a binomial distribution with probability of success 0.4 and plot a histogram of the results using matplotlib."
   ],
   "metadata": {
    "collapsed": false
   }
  },
  {
   "cell_type": "code",
   "execution_count": 5,
   "outputs": [
    {
     "data": {
      "text/plain": "<Figure size 640x480 with 1 Axes>",
      "image/png": "[encoded data removed]"
     },
     "metadata": {},
     "output_type": "display_data"
    }
   ],
   "source": [
    "import numpy as np\n",
    "import matplotlib.pylab as plt\n",
    "n = 1000\n",
    "p = 0.4\n",
    "sample = np.random.binomial(n,p,size=n)\n",
    "plt.hist(sample,density=True)\n",
    "plt.title('Histogram of a binomial distribution with n =1000 and p = 0.4')\n",
    "plt.xlabel('Number of successes')\n",
    "plt.ylabel('Probability Density')\n",
    "plt.show()"
   ],
   "metadata": {
    "collapsed": false,
    "ExecuteTime": {
     "start_time": "2023-04-05T20:49:54.230123Z",
     "end_time": "2023-04-05T20:49:54.719088Z"
    }
   }
  },
  {
   "cell_type": "markdown",
   "source": [
    "#### Q6. Write a Python function to calculate the cumulative distribution function of a Poisson distribution with given mean at a given point."
   ],
   "metadata": {
    "collapsed": false
   }
  },
  {
   "cell_type": "code",
   "execution_count": 6,
   "outputs": [
    {
     "name": "stdout",
     "output_type": "stream",
     "text": [
      "0.9160820579686966\n"
     ]
    }
   ],
   "source": [
    "import math\n",
    "def poisson_cdf(mu,k):\n",
    "    cdf = 0\n",
    "    for i in range(k+1):\n",
    "        cdf += math.exp(-mu)*(mu**i)/math.factorial(i)\n",
    "    print(cdf)\n",
    "\n",
    "poisson_cdf(3,5)"
   ],
   "metadata": {
    "collapsed": false,
    "ExecuteTime": {
     "start_time": "2023-04-05T20:56:47.543362Z",
     "end_time": "2023-04-05T20:56:47.589433Z"
    }
   }
  },
  {
   "cell_type": "markdown",
   "source": [
    "#### Q7. How Binomial distribution different from Poisson distribution?"
   ],
   "metadata": {
    "collapsed": false
   }
  },
  {
   "cell_type": "markdown",
   "source": [
    "The main difference between Binomial and Poisson distributions lies in the number of trials or events.\n",
    "Binomial distribution deals with the number of successes in a fixed number of trails, while  Poisson distribution deals with the number of events that occur in a fixed interval of time"
   ],
   "metadata": {
    "collapsed": false
   }
  },
  {
   "cell_type": "markdown",
   "source": [
    "#### Q8. Generate a random sample of size 1000 from a Poisson distribution with mean 5 and calculate the sample mean and variance."
   ],
   "metadata": {
    "collapsed": false
   }
  },
  {
   "cell_type": "code",
   "execution_count": 10,
   "outputs": [
    {
     "name": "stdout",
     "output_type": "stream",
     "text": [
      "Sample mean: 4.982\n",
      "Sample variance: 4.799676000000002\n"
     ]
    }
   ],
   "source": [
    "sample = np.random.poisson(lam=5,size=1000)\n",
    "sample_mean = np.mean(sample)\n",
    "sample_var = np.var(sample)\n",
    "\n",
    "print(\"Sample mean:\", sample_mean)\n",
    "print(\"Sample variance:\", sample_var)"
   ],
   "metadata": {
    "collapsed": false,
    "ExecuteTime": {
     "start_time": "2023-04-05T21:28:56.503690Z",
     "end_time": "2023-04-05T21:28:56.531256Z"
    }
   }
  },
  {
   "cell_type": "markdown",
   "source": [
    "#### Q9. How mean and variance are related in Binomial distribution and Poisson distribution?\n"
   ],
   "metadata": {
    "collapsed": false
   }
  },
  {
   "cell_type": "markdown",
   "source": [
    "In a binomial distribution the mean is calculated as n*p, and the variance is calculated as n*p*q, where n = number of trials, p = probability of success and q = 1-p as probability of failure\n",
    "In a poisson distribution the mean and variance is calculated as (expected number of events to occur at every interval)*t, where t = time interval\n",
    "The relationship between mean and variance is different in Binomial and Poisson distributions.\n",
    "In Binomial distribution, the variance increases as the probability of success or failure deviates from 0.5, while in Poisson distribution, the variance is always equal to the mean."
   ],
   "metadata": {
    "collapsed": false
   }
  },
  {
   "cell_type": "markdown",
   "source": [
    "#### Q10. In normal distribution with respect to mean position, where does the least frequent data appear?"
   ],
   "metadata": {
    "collapsed": false
   }
  },
  {
   "cell_type": "markdown",
   "source": [
    "In normal distribution, the least frequent data appear at the tails or extreme ends of the distribution, which are the farthest away from the mean."
   ],
   "metadata": {
    "collapsed": false
   }
  }
 ],
 "metadata": {
  "kernelspec": {
   "display_name": "Python 3",
   "language": "python",
   "name": "python3"
  },
  "language_info": {
   "codemirror_mode": {
    "name": "ipython",
    "version": 2
   },
   "file_extension": ".py",
   "mimetype": "text/x-python",
   "name": "python",
   "nbconvert_exporter": "python",
   "pygments_lexer": "ipython2",
   "version": "2.7.6"
  }
 },
 "nbformat": 4,
 "nbformat_minor": 0
}
